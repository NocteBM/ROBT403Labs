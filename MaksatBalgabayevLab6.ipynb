{
  "cells": [
    {
      "cell_type": "code",
      "execution_count": 55,
      "metadata": {
        "id": "X6fDxrKA_Y40"
      },
      "outputs": [],
      "source": [
        "import numpy as np \n",
        "import keras\n",
        "from keras.models import Sequential\n",
        "from keras.layers import Dense, Flatten, Dropout\n",
        "from tensorflow.keras.optimizers import Adamax\n",
        "from keras.utils import np_utils \n",
        "from keras import backend as K \n",
        "import pandas as pd\n",
        "from sklearn.model_selection import train_test_split"
      ]
    },
    {
      "cell_type": "code",
      "execution_count": 56,
      "metadata": {
        "id": "uNGaaORy_Y5C"
      },
      "outputs": [],
      "source": [
        "data = pd.read_csv(\"dict1.csv\", header = None, names = [\"Angles\", \"XY\"])"
      ]
    },
    {
      "cell_type": "code",
      "execution_count": 57,
      "metadata": {
        "colab": {
          "base_uri": "https://localhost:8080/",
          "height": 363
        },
        "id": "3yBLk8Ne_Y5H",
        "outputId": "feb1334b-c2a5-495e-902f-da5246c76447"
      },
      "outputs": [
        {
          "output_type": "execute_result",
          "data": {
            "text/html": [
              "<div>\n",
              "<style scoped>\n",
              "    .dataframe tbody tr th:only-of-type {\n",
              "        vertical-align: middle;\n",
              "    }\n",
              "\n",
              "    .dataframe tbody tr th {\n",
              "        vertical-align: top;\n",
              "    }\n",
              "\n",
              "    .dataframe thead th {\n",
              "        text-align: right;\n",
              "    }\n",
              "</style>\n",
              "<table border=\"1\" class=\"dataframe\">\n",
              "  <thead>\n",
              "    <tr style=\"text-align: right;\">\n",
              "      <th></th>\n",
              "      <th>Angles</th>\n",
              "      <th>XY</th>\n",
              "    </tr>\n",
              "  </thead>\n",
              "  <tbody>\n",
              "    <tr>\n",
              "      <th>0</th>\n",
              "      <td>(-0.4844, -0.0055999999999999999, -0.4738, -0....</td>\n",
              "      <td>[ 3.3534 -0.758   0.25  ]</td>\n",
              "    </tr>\n",
              "    <tr>\n",
              "      <th>1</th>\n",
              "      <td>(0.065799999999999997, 0.32650000000000001, -0...</td>\n",
              "      <td>[ 3.65    0.2261  0.25  ]</td>\n",
              "    </tr>\n",
              "    <tr>\n",
              "      <th>2</th>\n",
              "      <td>(0.5, -0.26340000000000002, -0.322799999999999...</td>\n",
              "      <td>[ 3.5975  0.0266  0.25  ]</td>\n",
              "    </tr>\n",
              "    <tr>\n",
              "      <th>3</th>\n",
              "      <td>(-0.37380000000000002, 0.057000000000000002, 0...</td>\n",
              "      <td>[ 3.3079  1.1612  0.25  ]</td>\n",
              "    </tr>\n",
              "    <tr>\n",
              "      <th>4</th>\n",
              "      <td>(0.4909, -0.50039999999999996, -0.489300000000...</td>\n",
              "      <td>[ 2.8581 -1.8829  0.25  ]</td>\n",
              "    </tr>\n",
              "    <tr>\n",
              "      <th>5</th>\n",
              "      <td>(-0.42959999999999998, 0.13919999999999999, 0....</td>\n",
              "      <td>[ 3.1552 -1.5432  0.25  ]</td>\n",
              "    </tr>\n",
              "    <tr>\n",
              "      <th>6</th>\n",
              "      <td>(-0.34429999999999999, 0.1285, -0.431599999999...</td>\n",
              "      <td>[ 3.4655  1.0909  0.25  ]</td>\n",
              "    </tr>\n",
              "    <tr>\n",
              "      <th>7</th>\n",
              "      <td>(-0.2757, 0.25919999999999999, -0.4516, 0.4562...</td>\n",
              "      <td>[ 3.6169 -0.4705  0.25  ]</td>\n",
              "    </tr>\n",
              "    <tr>\n",
              "      <th>8</th>\n",
              "      <td>(0.47560000000000002, -0.32550000000000001, -0...</td>\n",
              "      <td>[ 3.4346 -1.0292  0.25  ]</td>\n",
              "    </tr>\n",
              "    <tr>\n",
              "      <th>9</th>\n",
              "      <td>(-0.28349999999999997, 0.27329999999999999, -0...</td>\n",
              "      <td>[ 3.6564 -0.0752  0.25  ]</td>\n",
              "    </tr>\n",
              "  </tbody>\n",
              "</table>\n",
              "</div>"
            ],
            "text/plain": [
              "                                              Angles                         XY\n",
              "0  (-0.4844, -0.0055999999999999999, -0.4738, -0....  [ 3.3534 -0.758   0.25  ]\n",
              "1  (0.065799999999999997, 0.32650000000000001, -0...  [ 3.65    0.2261  0.25  ]\n",
              "2  (0.5, -0.26340000000000002, -0.322799999999999...  [ 3.5975  0.0266  0.25  ]\n",
              "3  (-0.37380000000000002, 0.057000000000000002, 0...  [ 3.3079  1.1612  0.25  ]\n",
              "4  (0.4909, -0.50039999999999996, -0.489300000000...  [ 2.8581 -1.8829  0.25  ]\n",
              "5  (-0.42959999999999998, 0.13919999999999999, 0....  [ 3.1552 -1.5432  0.25  ]\n",
              "6  (-0.34429999999999999, 0.1285, -0.431599999999...  [ 3.4655  1.0909  0.25  ]\n",
              "7  (-0.2757, 0.25919999999999999, -0.4516, 0.4562...  [ 3.6169 -0.4705  0.25  ]\n",
              "8  (0.47560000000000002, -0.32550000000000001, -0...  [ 3.4346 -1.0292  0.25  ]\n",
              "9  (-0.28349999999999997, 0.27329999999999999, -0...  [ 3.6564 -0.0752  0.25  ]"
            ]
          },
          "metadata": {},
          "execution_count": 57
        }
      ],
      "source": [
        "data.head(10)"
      ]
    },
    {
      "cell_type": "code",
      "execution_count": 58,
      "metadata": {
        "id": "4kfvh0qA_Y5Q"
      },
      "outputs": [],
      "source": [
        "train = data['Angles'].to_numpy()\n",
        "labels = data['XY'].to_numpy()"
      ]
    },
    {
      "cell_type": "code",
      "execution_count": 62,
      "metadata": {
        "id": "i5ba5lX9_Y5U"
      },
      "outputs": [],
      "source": [
        "X = list()\n",
        "Y = list()\n",
        "for i in range(len(train)):\n",
        "    labels[i] = labels[i].replace('   ', ' ')\n",
        "    labels[i] = labels[i].replace('  ', ' ')\n",
        "    labels[i] = labels[i].strip('[ ').strip(' ]')\n",
        "    train[i] = train[i].strip('(').strip(')')\n",
        "    result = [float(val) for val in train[i].split(',')]\n",
        "    X.append(result)\n",
        "    result = [float(val) for val in labels[i].split(' ')]\n",
        "    Y.append(result)"
      ]
    },
    {
      "cell_type": "code",
      "execution_count": 63,
      "metadata": {
        "id": "gETeq2eL_Y5W"
      },
      "outputs": [],
      "source": [
        "X_train, X_test, y_train, y_test = train_test_split(np.asarray(X), np.asarray(Y), test_size=0.30)"
      ]
    },
    {
      "cell_type": "code",
      "execution_count": 64,
      "metadata": {
        "colab": {
          "base_uri": "https://localhost:8080/"
        },
        "id": "ARAP1T5Y_Y5a",
        "outputId": "62cbcb71-ffd7-4b8d-ebea-06fb81768856"
      },
      "outputs": [
        {
          "output_type": "stream",
          "name": "stdout",
          "text": [
            "(700, 5)\n",
            "(700, 3)\n",
            "(301, 5)\n",
            "(301, 3)\n"
          ]
        }
      ],
      "source": [
        "print(np.shape(X_train))\n",
        "print(np.shape(y_train))\n",
        "print(np.shape(X_test))\n",
        "print(np.shape(y_test))"
      ]
    },
    {
      "cell_type": "code",
      "execution_count": 65,
      "metadata": {
        "id": "FWZ2c9Ax_Y5d"
      },
      "outputs": [],
      "source": [
        "y_train = np.delete(y_train, 2, 1)\n",
        "y_test = np.delete(y_test, 2, 1)"
      ]
    },
    {
      "cell_type": "code",
      "execution_count": 66,
      "metadata": {
        "id": "9PfFrAjY_Y5i"
      },
      "outputs": [],
      "source": [
        "def rmse(y_true, y_pred):\n",
        "    return K.sqrt(K.mean(K.square(y_pred - y_true)))\n",
        "\n",
        "model = Sequential()\n",
        "model.add(Dense(16, input_dim =5, activation = 'relu'))\n",
        "model.add(Dense(64, activation = 'relu'))\n",
        "model.add(Dense(64, activation = 'relu'))\n",
        "model.add(Dense(2, activation='linear'))\n",
        "model.compile(loss=rmse, optimizer=Adamax(0.01))"
      ]
    },
    {
      "cell_type": "code",
      "execution_count": 67,
      "metadata": {
        "colab": {
          "base_uri": "https://localhost:8080/"
        },
        "id": "baPsQxSg_Y5o",
        "outputId": "4fdce685-548b-4d23-a086-b4cef11a2dd4"
      },
      "outputs": [
        {
          "output_type": "stream",
          "name": "stdout",
          "text": [
            "Model: \"sequential_6\"\n",
            "_________________________________________________________________\n",
            " Layer (type)                Output Shape              Param #   \n",
            "=================================================================\n",
            " dense_24 (Dense)            (None, 16)                96        \n",
            "                                                                 \n",
            " dense_25 (Dense)            (None, 64)                1088      \n",
            "                                                                 \n",
            " dense_26 (Dense)            (None, 64)                4160      \n",
            "                                                                 \n",
            " dense_27 (Dense)            (None, 2)                 130       \n",
            "                                                                 \n",
            "=================================================================\n",
            "Total params: 5,474\n",
            "Trainable params: 5,474\n",
            "Non-trainable params: 0\n",
            "_________________________________________________________________\n"
          ]
        }
      ],
      "source": [
        "model.summary()"
      ]
    },
    {
      "cell_type": "code",
      "execution_count": 68,
      "metadata": {
        "colab": {
          "base_uri": "https://localhost:8080/"
        },
        "id": "F6dLDUjo_Y5q",
        "outputId": "3f8d360e-dc27-464c-e957-e5acb954ab2c"
      },
      "outputs": [
        {
          "output_type": "stream",
          "name": "stdout",
          "text": [
            "Epoch 1/60\n",
            "22/22 [==============================] - 0s 2ms/step - loss: 1.2346\n",
            "Epoch 2/60\n",
            "22/22 [==============================] - 0s 2ms/step - loss: 0.5099\n",
            "Epoch 3/60\n",
            "22/22 [==============================] - 0s 2ms/step - loss: 0.3425\n",
            "Epoch 4/60\n",
            "22/22 [==============================] - 0s 2ms/step - loss: 0.2489\n",
            "Epoch 5/60\n",
            "22/22 [==============================] - 0s 2ms/step - loss: 0.1829\n",
            "Epoch 6/60\n",
            "22/22 [==============================] - 0s 2ms/step - loss: 0.1357\n",
            "Epoch 7/60\n",
            "22/22 [==============================] - 0s 2ms/step - loss: 0.1085\n",
            "Epoch 8/60\n",
            "22/22 [==============================] - 0s 2ms/step - loss: 0.1045\n",
            "Epoch 9/60\n",
            "22/22 [==============================] - 0s 2ms/step - loss: 0.1081\n",
            "Epoch 10/60\n",
            "22/22 [==============================] - 0s 2ms/step - loss: 0.0877\n",
            "Epoch 11/60\n",
            "22/22 [==============================] - 0s 2ms/step - loss: 0.0815\n",
            "Epoch 12/60\n",
            "22/22 [==============================] - 0s 2ms/step - loss: 0.0783\n",
            "Epoch 13/60\n",
            "22/22 [==============================] - 0s 2ms/step - loss: 0.0755\n",
            "Epoch 14/60\n",
            "22/22 [==============================] - 0s 2ms/step - loss: 0.0752\n",
            "Epoch 15/60\n",
            "22/22 [==============================] - 0s 2ms/step - loss: 0.0709\n",
            "Epoch 16/60\n",
            "22/22 [==============================] - 0s 2ms/step - loss: 0.0674\n",
            "Epoch 17/60\n",
            "22/22 [==============================] - 0s 2ms/step - loss: 0.0651\n",
            "Epoch 18/60\n",
            "22/22 [==============================] - 0s 2ms/step - loss: 0.0717\n",
            "Epoch 19/60\n",
            "22/22 [==============================] - 0s 2ms/step - loss: 0.0725\n",
            "Epoch 20/60\n",
            "22/22 [==============================] - 0s 2ms/step - loss: 0.0626\n",
            "Epoch 21/60\n",
            "22/22 [==============================] - 0s 2ms/step - loss: 0.0579\n",
            "Epoch 22/60\n",
            "22/22 [==============================] - 0s 2ms/step - loss: 0.0651\n",
            "Epoch 23/60\n",
            "22/22 [==============================] - 0s 2ms/step - loss: 0.0578\n",
            "Epoch 24/60\n",
            "22/22 [==============================] - 0s 2ms/step - loss: 0.0583\n",
            "Epoch 25/60\n",
            "22/22 [==============================] - 0s 2ms/step - loss: 0.0609\n",
            "Epoch 26/60\n",
            "22/22 [==============================] - 0s 2ms/step - loss: 0.0612\n",
            "Epoch 27/60\n",
            "22/22 [==============================] - 0s 2ms/step - loss: 0.0607\n",
            "Epoch 28/60\n",
            "22/22 [==============================] - 0s 2ms/step - loss: 0.0564\n",
            "Epoch 29/60\n",
            "22/22 [==============================] - 0s 2ms/step - loss: 0.0497\n",
            "Epoch 30/60\n",
            "22/22 [==============================] - 0s 2ms/step - loss: 0.0516\n",
            "Epoch 31/60\n",
            "22/22 [==============================] - 0s 2ms/step - loss: 0.0593\n",
            "Epoch 32/60\n",
            "22/22 [==============================] - 0s 2ms/step - loss: 0.0681\n",
            "Epoch 33/60\n",
            "22/22 [==============================] - 0s 2ms/step - loss: 0.0538\n",
            "Epoch 34/60\n",
            "22/22 [==============================] - 0s 2ms/step - loss: 0.0545\n",
            "Epoch 35/60\n",
            "22/22 [==============================] - 0s 2ms/step - loss: 0.0494\n",
            "Epoch 36/60\n",
            "22/22 [==============================] - 0s 2ms/step - loss: 0.0497\n",
            "Epoch 37/60\n",
            "22/22 [==============================] - 0s 2ms/step - loss: 0.0504\n",
            "Epoch 38/60\n",
            "22/22 [==============================] - 0s 2ms/step - loss: 0.0475\n",
            "Epoch 39/60\n",
            "22/22 [==============================] - 0s 3ms/step - loss: 0.0484\n",
            "Epoch 40/60\n",
            "22/22 [==============================] - 0s 2ms/step - loss: 0.0600\n",
            "Epoch 41/60\n",
            "22/22 [==============================] - 0s 2ms/step - loss: 0.0482\n",
            "Epoch 42/60\n",
            "22/22 [==============================] - 0s 2ms/step - loss: 0.0532\n",
            "Epoch 43/60\n",
            "22/22 [==============================] - 0s 2ms/step - loss: 0.0552\n",
            "Epoch 44/60\n",
            "22/22 [==============================] - 0s 2ms/step - loss: 0.0611\n",
            "Epoch 45/60\n",
            "22/22 [==============================] - 0s 2ms/step - loss: 0.0540\n",
            "Epoch 46/60\n",
            "22/22 [==============================] - 0s 2ms/step - loss: 0.0507\n",
            "Epoch 47/60\n",
            "22/22 [==============================] - 0s 2ms/step - loss: 0.0436\n",
            "Epoch 48/60\n",
            "22/22 [==============================] - 0s 2ms/step - loss: 0.0461\n",
            "Epoch 49/60\n",
            "22/22 [==============================] - 0s 2ms/step - loss: 0.0475\n",
            "Epoch 50/60\n",
            "22/22 [==============================] - 0s 2ms/step - loss: 0.0503\n",
            "Epoch 51/60\n",
            "22/22 [==============================] - 0s 2ms/step - loss: 0.0463\n",
            "Epoch 52/60\n",
            "22/22 [==============================] - 0s 2ms/step - loss: 0.0468\n",
            "Epoch 53/60\n",
            "22/22 [==============================] - 0s 2ms/step - loss: 0.0444\n",
            "Epoch 54/60\n",
            "22/22 [==============================] - 0s 2ms/step - loss: 0.0434\n",
            "Epoch 55/60\n",
            "22/22 [==============================] - 0s 2ms/step - loss: 0.0406\n",
            "Epoch 56/60\n",
            "22/22 [==============================] - 0s 2ms/step - loss: 0.0427\n",
            "Epoch 57/60\n",
            "22/22 [==============================] - 0s 2ms/step - loss: 0.0446\n",
            "Epoch 58/60\n",
            "22/22 [==============================] - 0s 2ms/step - loss: 0.0488\n",
            "Epoch 59/60\n",
            "22/22 [==============================] - 0s 2ms/step - loss: 0.0458\n",
            "Epoch 60/60\n",
            "22/22 [==============================] - 0s 2ms/step - loss: 0.0493\n"
          ]
        },
        {
          "output_type": "execute_result",
          "data": {
            "text/plain": [
              "<keras.callbacks.History at 0x7f79ba48e190>"
            ]
          },
          "metadata": {},
          "execution_count": 68
        }
      ],
      "source": [
        "model.fit(X_train, y_train, epochs = 60)"
      ]
    },
    {
      "cell_type": "code",
      "execution_count": 69,
      "metadata": {
        "colab": {
          "base_uri": "https://localhost:8080/"
        },
        "id": "daqZ2BbG_Y5w",
        "outputId": "3333b57d-d05d-4ce4-e086-f4d958ffbd4e"
      },
      "outputs": [
        {
          "output_type": "stream",
          "name": "stdout",
          "text": [
            "RMSE: 0.06\n"
          ]
        }
      ],
      "source": [
        "scores = model.evaluate(X_test, y_test, verbose=0) \n",
        "print(\"RMSE: %.2f\" % (scores))"
      ]
    },
    {
      "cell_type": "code",
      "execution_count": 70,
      "metadata": {
        "colab": {
          "base_uri": "https://localhost:8080/"
        },
        "id": "Yi0M5PUT_Y5z",
        "outputId": "be8628d5-8a4f-49f7-80d1-53e4db6469b8"
      },
      "outputs": [
        {
          "output_type": "stream",
          "name": "stdout",
          "text": [
            "[[ 3.0196145 -1.7331649]]\n",
            "[ 3.039  -1.8172]\n"
          ]
        }
      ],
      "source": [
        "print(model.predict(X_train[10].reshape(1,5)))\n",
        "print(y_train[10])"
      ]
    },
    {
      "cell_type": "code",
      "source": [
        ""
      ],
      "metadata": {
        "id": "E5AX9IjMCNZo"
      },
      "execution_count": null,
      "outputs": []
    }
  ],
  "metadata": {
    "kernelspec": {
      "display_name": "Python 3",
      "language": "python",
      "name": "python3"
    },
    "language_info": {
      "codemirror_mode": {
        "name": "ipython",
        "version": 3
      },
      "file_extension": ".py",
      "mimetype": "text/x-python",
      "name": "python",
      "nbconvert_exporter": "python",
      "pygments_lexer": "ipython3",
      "version": "3.7.4"
    },
    "colab": {
      "name": "MaksatBalgabayevLab6.ipynb",
      "provenance": [],
      "collapsed_sections": []
    }
  },
  "nbformat": 4,
  "nbformat_minor": 0
}