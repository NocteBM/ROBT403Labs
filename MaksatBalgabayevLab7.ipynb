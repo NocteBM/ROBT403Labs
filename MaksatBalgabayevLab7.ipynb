{
  "cells": [
    {
      "cell_type": "code",
      "execution_count": 147,
      "metadata": {
        "id": "X6fDxrKA_Y40"
      },
      "outputs": [],
      "source": [
        "import numpy as np \n",
        "import keras\n",
        "from keras.models import Sequential\n",
        "from keras.layers import Dense, Flatten, Dropout\n",
        "from tensorflow.keras.optimizers import SGD\n",
        "from keras.utils import np_utils \n",
        "from keras import backend as K \n",
        "import pandas as pd\n",
        "from sklearn.model_selection import train_test_split"
      ]
    },
    {
      "cell_type": "code",
      "execution_count": 109,
      "metadata": {
        "id": "uNGaaORy_Y5C"
      },
      "outputs": [],
      "source": [
        "data = pd.read_csv(\"dict1.csv\", header = None, names = [\"Angles\", \"XY\"])"
      ]
    },
    {
      "cell_type": "code",
      "execution_count": 110,
      "metadata": {
        "colab": {
          "base_uri": "https://localhost:8080/",
          "height": 363
        },
        "id": "3yBLk8Ne_Y5H",
        "outputId": "37060050-3edb-4a4d-b2ae-454d742f0688"
      },
      "outputs": [
        {
          "output_type": "execute_result",
          "data": {
            "text/html": [
              "<div>\n",
              "<style scoped>\n",
              "    .dataframe tbody tr th:only-of-type {\n",
              "        vertical-align: middle;\n",
              "    }\n",
              "\n",
              "    .dataframe tbody tr th {\n",
              "        vertical-align: top;\n",
              "    }\n",
              "\n",
              "    .dataframe thead th {\n",
              "        text-align: right;\n",
              "    }\n",
              "</style>\n",
              "<table border=\"1\" class=\"dataframe\">\n",
              "  <thead>\n",
              "    <tr style=\"text-align: right;\">\n",
              "      <th></th>\n",
              "      <th>Angles</th>\n",
              "      <th>XY</th>\n",
              "    </tr>\n",
              "  </thead>\n",
              "  <tbody>\n",
              "    <tr>\n",
              "      <th>0</th>\n",
              "      <td>(-0.4844, -0.0055999999999999999, -0.4738, -0....</td>\n",
              "      <td>[ 3.3534 -0.758   0.25  ]</td>\n",
              "    </tr>\n",
              "    <tr>\n",
              "      <th>1</th>\n",
              "      <td>(0.065799999999999997, 0.32650000000000001, -0...</td>\n",
              "      <td>[ 3.65    0.2261  0.25  ]</td>\n",
              "    </tr>\n",
              "    <tr>\n",
              "      <th>2</th>\n",
              "      <td>(0.5, -0.26340000000000002, -0.322799999999999...</td>\n",
              "      <td>[ 3.5975  0.0266  0.25  ]</td>\n",
              "    </tr>\n",
              "    <tr>\n",
              "      <th>3</th>\n",
              "      <td>(-0.37380000000000002, 0.057000000000000002, 0...</td>\n",
              "      <td>[ 3.3079  1.1612  0.25  ]</td>\n",
              "    </tr>\n",
              "    <tr>\n",
              "      <th>4</th>\n",
              "      <td>(0.4909, -0.50039999999999996, -0.489300000000...</td>\n",
              "      <td>[ 2.8581 -1.8829  0.25  ]</td>\n",
              "    </tr>\n",
              "    <tr>\n",
              "      <th>5</th>\n",
              "      <td>(-0.42959999999999998, 0.13919999999999999, 0....</td>\n",
              "      <td>[ 3.1552 -1.5432  0.25  ]</td>\n",
              "    </tr>\n",
              "    <tr>\n",
              "      <th>6</th>\n",
              "      <td>(-0.34429999999999999, 0.1285, -0.431599999999...</td>\n",
              "      <td>[ 3.4655  1.0909  0.25  ]</td>\n",
              "    </tr>\n",
              "    <tr>\n",
              "      <th>7</th>\n",
              "      <td>(-0.2757, 0.25919999999999999, -0.4516, 0.4562...</td>\n",
              "      <td>[ 3.6169 -0.4705  0.25  ]</td>\n",
              "    </tr>\n",
              "    <tr>\n",
              "      <th>8</th>\n",
              "      <td>(0.47560000000000002, -0.32550000000000001, -0...</td>\n",
              "      <td>[ 3.4346 -1.0292  0.25  ]</td>\n",
              "    </tr>\n",
              "    <tr>\n",
              "      <th>9</th>\n",
              "      <td>(-0.28349999999999997, 0.27329999999999999, -0...</td>\n",
              "      <td>[ 3.6564 -0.0752  0.25  ]</td>\n",
              "    </tr>\n",
              "  </tbody>\n",
              "</table>\n",
              "</div>"
            ],
            "text/plain": [
              "                                              Angles                         XY\n",
              "0  (-0.4844, -0.0055999999999999999, -0.4738, -0....  [ 3.3534 -0.758   0.25  ]\n",
              "1  (0.065799999999999997, 0.32650000000000001, -0...  [ 3.65    0.2261  0.25  ]\n",
              "2  (0.5, -0.26340000000000002, -0.322799999999999...  [ 3.5975  0.0266  0.25  ]\n",
              "3  (-0.37380000000000002, 0.057000000000000002, 0...  [ 3.3079  1.1612  0.25  ]\n",
              "4  (0.4909, -0.50039999999999996, -0.489300000000...  [ 2.8581 -1.8829  0.25  ]\n",
              "5  (-0.42959999999999998, 0.13919999999999999, 0....  [ 3.1552 -1.5432  0.25  ]\n",
              "6  (-0.34429999999999999, 0.1285, -0.431599999999...  [ 3.4655  1.0909  0.25  ]\n",
              "7  (-0.2757, 0.25919999999999999, -0.4516, 0.4562...  [ 3.6169 -0.4705  0.25  ]\n",
              "8  (0.47560000000000002, -0.32550000000000001, -0...  [ 3.4346 -1.0292  0.25  ]\n",
              "9  (-0.28349999999999997, 0.27329999999999999, -0...  [ 3.6564 -0.0752  0.25  ]"
            ]
          },
          "metadata": {},
          "execution_count": 110
        }
      ],
      "source": [
        "data.head(10)"
      ]
    },
    {
      "cell_type": "code",
      "execution_count": 111,
      "metadata": {
        "id": "4kfvh0qA_Y5Q"
      },
      "outputs": [],
      "source": [
        "labels = data['Angles'].to_numpy()\n",
        "train= data['XY'].to_numpy()"
      ]
    },
    {
      "cell_type": "code",
      "execution_count": 113,
      "metadata": {
        "id": "i5ba5lX9_Y5U"
      },
      "outputs": [],
      "source": [
        "X = list()\n",
        "Y = list()\n",
        "for i in range(len(labels)):\n",
        "    train[i] = train[i].replace('   ', ' ')\n",
        "    train[i] = train[i].replace('  ', ' ')\n",
        "    train[i] = train[i].strip('[ ').strip(' ]')\n",
        "    labels[i] = labels[i].strip('(').strip(')')\n",
        "    result = [float(val) for val in labels[i].split(',')]\n",
        "    Y.append(result)\n",
        "    result = [float(val) for val in train[i].split(' ')]\n",
        "    X.append(result)"
      ]
    },
    {
      "cell_type": "code",
      "execution_count": 114,
      "metadata": {
        "id": "gETeq2eL_Y5W"
      },
      "outputs": [],
      "source": [
        "X_train, X_test, y_train, y_test = train_test_split(np.asarray(X), np.asarray(Y), test_size=0.30)"
      ]
    },
    {
      "cell_type": "code",
      "execution_count": 115,
      "metadata": {
        "colab": {
          "base_uri": "https://localhost:8080/"
        },
        "id": "ARAP1T5Y_Y5a",
        "outputId": "0a6d3d7f-e257-483a-c6dd-460569e0ca3a"
      },
      "outputs": [
        {
          "output_type": "stream",
          "name": "stdout",
          "text": [
            "(700, 3)\n",
            "(700, 5)\n",
            "(301, 3)\n",
            "(301, 5)\n"
          ]
        }
      ],
      "source": [
        "print(np.shape(X_train))\n",
        "print(np.shape(y_train))\n",
        "print(np.shape(X_test))\n",
        "print(np.shape(y_test))"
      ]
    },
    {
      "cell_type": "code",
      "execution_count": 116,
      "metadata": {
        "id": "FWZ2c9Ax_Y5d"
      },
      "outputs": [],
      "source": [
        "y_train = np.delete(y_train, 2, 1)\n",
        "y_test = np.delete(y_test, 2, 1)"
      ]
    },
    {
      "cell_type": "code",
      "execution_count": 149,
      "metadata": {
        "id": "9PfFrAjY_Y5i"
      },
      "outputs": [],
      "source": [
        "def rmse(y_true, y_pred):\n",
        "    return K.sqrt(K.mean(K.square(y_pred - y_true)))\n",
        "\n",
        "model = Sequential()\n",
        "model.add(Dense(10, input_dim =3, activation = 'relu'))\n",
        "model.add(Dense(64, activation = 'relu'))\n",
        "model.add(Dense(64, activation = 'relu'))\n",
        "model.add(Dense(4, activation='linear'))\n",
        "model.compile(loss=rmse, optimizer=SGD(0.01))"
      ]
    },
    {
      "cell_type": "code",
      "execution_count": 150,
      "metadata": {
        "colab": {
          "base_uri": "https://localhost:8080/"
        },
        "id": "baPsQxSg_Y5o",
        "outputId": "d5aef93c-00dd-4274-d8ac-b27ba4939e28"
      },
      "outputs": [
        {
          "output_type": "stream",
          "name": "stdout",
          "text": [
            "Model: \"sequential_21\"\n",
            "_________________________________________________________________\n",
            " Layer (type)                Output Shape              Param #   \n",
            "=================================================================\n",
            " dense_84 (Dense)            (None, 10)                40        \n",
            "                                                                 \n",
            " dense_85 (Dense)            (None, 64)                704       \n",
            "                                                                 \n",
            " dense_86 (Dense)            (None, 64)                4160      \n",
            "                                                                 \n",
            " dense_87 (Dense)            (None, 4)                 260       \n",
            "                                                                 \n",
            "=================================================================\n",
            "Total params: 5,164\n",
            "Trainable params: 5,164\n",
            "Non-trainable params: 0\n",
            "_________________________________________________________________\n"
          ]
        }
      ],
      "source": [
        "model.summary()"
      ]
    },
    {
      "cell_type": "code",
      "execution_count": 151,
      "metadata": {
        "colab": {
          "base_uri": "https://localhost:8080/"
        },
        "id": "F6dLDUjo_Y5q",
        "outputId": "fbee9084-851d-4275-a983-2e6a77be0a39"
      },
      "outputs": [
        {
          "output_type": "stream",
          "name": "stdout",
          "text": [
            "Epoch 1/30\n",
            "22/22 [==============================] - 0s 2ms/step - loss: 0.3642\n",
            "Epoch 2/30\n",
            "22/22 [==============================] - 0s 2ms/step - loss: 0.2865\n",
            "Epoch 3/30\n",
            "22/22 [==============================] - 0s 2ms/step - loss: 0.2777\n",
            "Epoch 4/30\n",
            "22/22 [==============================] - 0s 2ms/step - loss: 0.2727\n",
            "Epoch 5/30\n",
            "22/22 [==============================] - 0s 2ms/step - loss: 0.2698\n",
            "Epoch 6/30\n",
            "22/22 [==============================] - 0s 2ms/step - loss: 0.2678\n",
            "Epoch 7/30\n",
            "22/22 [==============================] - 0s 2ms/step - loss: 0.2665\n",
            "Epoch 8/30\n",
            "22/22 [==============================] - 0s 2ms/step - loss: 0.2656\n",
            "Epoch 9/30\n",
            "22/22 [==============================] - 0s 2ms/step - loss: 0.2649\n",
            "Epoch 10/30\n",
            "22/22 [==============================] - 0s 2ms/step - loss: 0.2644\n",
            "Epoch 11/30\n",
            "22/22 [==============================] - 0s 2ms/step - loss: 0.2644\n",
            "Epoch 12/30\n",
            "22/22 [==============================] - 0s 2ms/step - loss: 0.2639\n",
            "Epoch 13/30\n",
            "22/22 [==============================] - 0s 2ms/step - loss: 0.2639\n",
            "Epoch 14/30\n",
            "22/22 [==============================] - 0s 2ms/step - loss: 0.2634\n",
            "Epoch 15/30\n",
            "22/22 [==============================] - 0s 2ms/step - loss: 0.2631\n",
            "Epoch 16/30\n",
            "22/22 [==============================] - 0s 2ms/step - loss: 0.2630\n",
            "Epoch 17/30\n",
            "22/22 [==============================] - 0s 2ms/step - loss: 0.2630\n",
            "Epoch 18/30\n",
            "22/22 [==============================] - 0s 2ms/step - loss: 0.2628\n",
            "Epoch 19/30\n",
            "22/22 [==============================] - 0s 2ms/step - loss: 0.2628\n",
            "Epoch 20/30\n",
            "22/22 [==============================] - 0s 2ms/step - loss: 0.2626\n",
            "Epoch 21/30\n",
            "22/22 [==============================] - 0s 2ms/step - loss: 0.2626\n",
            "Epoch 22/30\n",
            "22/22 [==============================] - 0s 2ms/step - loss: 0.2622\n",
            "Epoch 23/30\n",
            "22/22 [==============================] - 0s 1ms/step - loss: 0.2625\n",
            "Epoch 24/30\n",
            "22/22 [==============================] - 0s 2ms/step - loss: 0.2624\n",
            "Epoch 25/30\n",
            "22/22 [==============================] - 0s 2ms/step - loss: 0.2624\n",
            "Epoch 26/30\n",
            "22/22 [==============================] - 0s 1ms/step - loss: 0.2624\n",
            "Epoch 27/30\n",
            "22/22 [==============================] - 0s 2ms/step - loss: 0.2623\n",
            "Epoch 28/30\n",
            "22/22 [==============================] - 0s 2ms/step - loss: 0.2621\n",
            "Epoch 29/30\n",
            "22/22 [==============================] - 0s 2ms/step - loss: 0.2617\n",
            "Epoch 30/30\n",
            "22/22 [==============================] - 0s 2ms/step - loss: 0.2623\n"
          ]
        },
        {
          "output_type": "execute_result",
          "data": {
            "text/plain": [
              "<keras.callbacks.History at 0x7f79ba0c98d0>"
            ]
          },
          "metadata": {},
          "execution_count": 151
        }
      ],
      "source": [
        "model.fit(X_train, y_train, epochs = 30)"
      ]
    },
    {
      "cell_type": "code",
      "execution_count": 152,
      "metadata": {
        "colab": {
          "base_uri": "https://localhost:8080/"
        },
        "id": "daqZ2BbG_Y5w",
        "outputId": "91e380d1-ce84-4ffa-9282-cc2f15dbfeea"
      },
      "outputs": [
        {
          "output_type": "stream",
          "name": "stdout",
          "text": [
            "RMSE: 0.26\n"
          ]
        }
      ],
      "source": [
        "scores = model.evaluate(X_test, y_test, verbose=0) \n",
        "print(\"RMSE: %.2f\" % (scores))"
      ]
    },
    {
      "cell_type": "code",
      "execution_count": 70,
      "metadata": {
        "colab": {
          "base_uri": "https://localhost:8080/"
        },
        "id": "Yi0M5PUT_Y5z",
        "outputId": "be8628d5-8a4f-49f7-80d1-53e4db6469b8"
      },
      "outputs": [
        {
          "output_type": "stream",
          "name": "stdout",
          "text": [
            "[[ 3.0196145 -1.7331649]]\n",
            "[ 3.039  -1.8172]\n"
          ]
        }
      ],
      "source": [
        "print(model.predict(X_train[10].reshape(1,5)))\n",
        "print(y_train[10])"
      ]
    },
    {
      "cell_type": "code",
      "source": [
        ""
      ],
      "metadata": {
        "id": "E5AX9IjMCNZo"
      },
      "execution_count": null,
      "outputs": []
    }
  ],
  "metadata": {
    "kernelspec": {
      "display_name": "Python 3",
      "language": "python",
      "name": "python3"
    },
    "language_info": {
      "codemirror_mode": {
        "name": "ipython",
        "version": 3
      },
      "file_extension": ".py",
      "mimetype": "text/x-python",
      "name": "python",
      "nbconvert_exporter": "python",
      "pygments_lexer": "ipython3",
      "version": "3.7.4"
    },
    "colab": {
      "name": "MaksatBalgabayevLab7.ipynb",
      "provenance": [],
      "collapsed_sections": []
    }
  },
  "nbformat": 4,
  "nbformat_minor": 0
}